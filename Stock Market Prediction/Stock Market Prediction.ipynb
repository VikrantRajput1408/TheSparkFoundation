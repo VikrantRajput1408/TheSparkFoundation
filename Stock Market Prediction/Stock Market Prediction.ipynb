{
 "cells": [
  {
   "cell_type": "markdown",
   "metadata": {},
   "source": [
    "# Vikrant Rajput\n",
    "## Data Science & Business Analytics Intern \n",
    "### FEB21@The Sparks Foundation\n",
    "\n",
    "# Import the libraries"
   ]
  },
  {
   "cell_type": "code",
   "execution_count": 1,
   "metadata": {},
   "outputs": [],
   "source": [
    "import numpy as np\n",
    "import pandas as pd\n",
    "import matplotlib.pyplot as plt"
   ]
  },
  {
   "cell_type": "markdown",
   "metadata": {},
   "source": [
    "# Import the training Data"
   ]
  },
  {
   "cell_type": "code",
   "execution_count": 2,
   "metadata": {},
   "outputs": [],
   "source": [
    "dataset_train = pd.read_csv('Train_TCS.csv')"
   ]
  },
  {
   "cell_type": "code",
   "execution_count": 3,
   "metadata": {},
   "outputs": [
    {
     "data": {
      "text/plain": [
       "Date         0\n",
       "Open         9\n",
       "High         9\n",
       "Low          9\n",
       "Close        9\n",
       "Adj Close    9\n",
       "Volume       9\n",
       "dtype: int64"
      ]
     },
     "execution_count": 3,
     "metadata": {},
     "output_type": "execute_result"
    }
   ],
   "source": [
    "dataset_train.isnull().sum()"
   ]
  },
  {
   "cell_type": "code",
   "execution_count": 4,
   "metadata": {},
   "outputs": [
    {
     "data": {
      "text/plain": [
       "Date         0\n",
       "Open         0\n",
       "High         0\n",
       "Low          0\n",
       "Close        0\n",
       "Adj Close    0\n",
       "Volume       0\n",
       "dtype: int64"
      ]
     },
     "execution_count": 4,
     "metadata": {},
     "output_type": "execute_result"
    }
   ],
   "source": [
    "dataset_train.dropna(inplace = True )\n",
    "dataset_train.isnull().sum()"
   ]
  },
  {
   "cell_type": "code",
   "execution_count": 5,
   "metadata": {},
   "outputs": [],
   "source": [
    "training_set = dataset_train.iloc[:, 1:2].values"
   ]
  },
  {
   "cell_type": "markdown",
   "metadata": {},
   "source": [
    "# Feature Scaling"
   ]
  },
  {
   "cell_type": "code",
   "execution_count": 6,
   "metadata": {},
   "outputs": [],
   "source": [
    "from sklearn.preprocessing import MinMaxScaler\n",
    "sc = MinMaxScaler(feature_range = (0, 1))\n",
    "training_set_scaled = sc.fit_transform(training_set)"
   ]
  },
  {
   "cell_type": "markdown",
   "metadata": {},
   "source": [
    "# Create a data structure with 60 timestep and 1 output"
   ]
  },
  {
   "cell_type": "code",
   "execution_count": 7,
   "metadata": {},
   "outputs": [],
   "source": [
    "X_train = []\n",
    "y_train = []\n",
    "length = len(training_set_scaled)\n",
    "for i in range(60,length):\n",
    "    X_train.append(training_set_scaled[i-60:i, 0])\n",
    "    y_train.append(training_set_scaled[i,0])\n",
    "    \n",
    "X_train,y_train = np.array(X_train), np.array(y_train)"
   ]
  },
  {
   "cell_type": "markdown",
   "metadata": {},
   "source": [
    "# Reshape"
   ]
  },
  {
   "cell_type": "code",
   "execution_count": 8,
   "metadata": {},
   "outputs": [],
   "source": [
    "X_train = np.reshape(X_train,(X_train.shape[0], X_train.shape[1], 1))"
   ]
  },
  {
   "cell_type": "markdown",
   "metadata": {},
   "source": [
    "# Importing the keras Libraries and packages"
   ]
  },
  {
   "cell_type": "code",
   "execution_count": 9,
   "metadata": {},
   "outputs": [],
   "source": [
    "from keras.models import Sequential\n",
    "from keras.layers import Dense\n",
    "from keras.layers import LSTM\n",
    "from keras.layers import Dropout"
   ]
  },
  {
   "cell_type": "markdown",
   "metadata": {},
   "source": [
    "# Model"
   ]
  },
  {
   "cell_type": "code",
   "execution_count": 10,
   "metadata": {},
   "outputs": [],
   "source": [
    "regressor = Sequential()"
   ]
  },
  {
   "cell_type": "code",
   "execution_count": 11,
   "metadata": {},
   "outputs": [],
   "source": [
    "# Adding the first LSTM layer and some Dropout regularization\n",
    "regressor.add(LSTM(units= 100, return_sequences=True, input_shape=(X_train.shape[1], 1) ))\n",
    "regressor.add(Dropout(0.2))\n",
    "\n",
    "# Adding a second LSTM Layer and some dropout regularization\n",
    "regressor.add(LSTM(units= 100, return_sequences=True))\n",
    "regressor.add(Dropout(0.2))\n",
    "\n",
    "# Adding a third LSTM layer and some dropout regularzation\n",
    "regressor.add(LSTM(units= 100, return_sequences=True))\n",
    "regressor.add(Dropout(0.2))\n",
    "\n",
    "# Adding a fourth LSTM layer and some dropout regularization\n",
    "regressor.add(LSTM(units= 100))\n",
    "regressor.add(Dropout(0.2))\n",
    "\n",
    "# Adding a Output Layer\n",
    "regressor.add(Dense(units=1))"
   ]
  },
  {
   "cell_type": "markdown",
   "metadata": {},
   "source": [
    "# Compile & Train Model"
   ]
  },
  {
   "cell_type": "code",
   "execution_count": 12,
   "metadata": {},
   "outputs": [
    {
     "name": "stdout",
     "output_type": "stream",
     "text": [
      "Epoch 1/100\n",
      "83/83 [==============================] - 19s 129ms/step - loss: 0.0303\n",
      "Epoch 2/100\n",
      "83/83 [==============================] - 10s 126ms/step - loss: 0.0015\n",
      "Epoch 3/100\n",
      "83/83 [==============================] - 10s 124ms/step - loss: 0.0019\n",
      "Epoch 4/100\n",
      "83/83 [==============================] - 10s 124ms/step - loss: 0.0015\n",
      "Epoch 5/100\n",
      "83/83 [==============================] - 10s 126ms/step - loss: 0.0013\n",
      "Epoch 6/100\n",
      "83/83 [==============================] - 11s 129ms/step - loss: 0.0011\n",
      "Epoch 7/100\n",
      "83/83 [==============================] - 11s 128ms/step - loss: 0.0012\n",
      "Epoch 8/100\n",
      "83/83 [==============================] - 11s 130ms/step - loss: 0.0013\n",
      "Epoch 9/100\n",
      "83/83 [==============================] - 11s 128ms/step - loss: 0.0012\n",
      "Epoch 10/100\n",
      "83/83 [==============================] - 11s 129ms/step - loss: 0.0012\n",
      "Epoch 11/100\n",
      "83/83 [==============================] - 11s 130ms/step - loss: 0.0011\n",
      "Epoch 12/100\n",
      "83/83 [==============================] - 11s 129ms/step - loss: 0.0011\n",
      "Epoch 13/100\n",
      "83/83 [==============================] - 11s 130ms/step - loss: 0.0012\n",
      "Epoch 14/100\n",
      "83/83 [==============================] - 11s 131ms/step - loss: 8.0584e-04\n",
      "Epoch 15/100\n",
      "83/83 [==============================] - 11s 129ms/step - loss: 9.0245e-04\n",
      "Epoch 16/100\n",
      "83/83 [==============================] - 11s 128ms/step - loss: 9.1871e-04\n",
      "Epoch 17/100\n",
      "83/83 [==============================] - 11s 129ms/step - loss: 8.8908e-04\n",
      "Epoch 18/100\n",
      "83/83 [==============================] - 11s 133ms/step - loss: 8.4480e-04\n",
      "Epoch 19/100\n",
      "83/83 [==============================] - 11s 137ms/step - loss: 8.3170e-04\n",
      "Epoch 20/100\n",
      "83/83 [==============================] - 11s 129ms/step - loss: 7.8774e-04\n",
      "Epoch 21/100\n",
      "83/83 [==============================] - 12s 145ms/step - loss: 6.0701e-04\n",
      "Epoch 22/100\n",
      "83/83 [==============================] - 11s 129ms/step - loss: 6.7824e-04\n",
      "Epoch 23/100\n",
      "83/83 [==============================] - 12s 150ms/step - loss: 7.4004e-04\n",
      "Epoch 24/100\n",
      "83/83 [==============================] - 11s 138ms/step - loss: 6.0298e-04\n",
      "Epoch 25/100\n",
      "83/83 [==============================] - 12s 141ms/step - loss: 6.9992e-04\n",
      "Epoch 26/100\n",
      "83/83 [==============================] - 11s 128ms/step - loss: 7.9420e-04\n",
      "Epoch 27/100\n",
      "83/83 [==============================] - 12s 146ms/step - loss: 6.5234e-04\n",
      "Epoch 28/100\n",
      "83/83 [==============================] - 11s 129ms/step - loss: 6.2219e-04\n",
      "Epoch 29/100\n",
      "83/83 [==============================] - 10s 125ms/step - loss: 7.7358e-04\n",
      "Epoch 30/100\n",
      "83/83 [==============================] - 11s 127ms/step - loss: 6.3911e-04\n",
      "Epoch 31/100\n",
      "83/83 [==============================] - 11s 130ms/step - loss: 6.1009e-04\n",
      "Epoch 32/100\n",
      "83/83 [==============================] - 11s 134ms/step - loss: 6.3273e-04\n",
      "Epoch 33/100\n",
      "83/83 [==============================] - 11s 130ms/step - loss: 6.0026e-04\n",
      "Epoch 34/100\n",
      "83/83 [==============================] - 11s 136ms/step - loss: 6.5605e-04\n",
      "Epoch 35/100\n",
      "83/83 [==============================] - 11s 134ms/step - loss: 6.5139e-04\n",
      "Epoch 36/100\n",
      "83/83 [==============================] - 11s 129ms/step - loss: 8.4102e-04\n",
      "Epoch 37/100\n",
      "83/83 [==============================] - 11s 133ms/step - loss: 5.6311e-04\n",
      "Epoch 38/100\n",
      "83/83 [==============================] - 11s 128ms/step - loss: 5.0021e-04\n",
      "Epoch 39/100\n",
      "83/83 [==============================] - 11s 129ms/step - loss: 6.2524e-04\n",
      "Epoch 40/100\n",
      "83/83 [==============================] - 11s 130ms/step - loss: 5.0173e-04\n",
      "Epoch 41/100\n",
      "83/83 [==============================] - 11s 128ms/step - loss: 6.3574e-04\n",
      "Epoch 42/100\n",
      "83/83 [==============================] - 11s 127ms/step - loss: 4.8605e-04\n",
      "Epoch 43/100\n",
      "83/83 [==============================] - 11s 130ms/step - loss: 5.0362e-04\n",
      "Epoch 44/100\n",
      "83/83 [==============================] - 11s 127ms/step - loss: 5.6647e-04\n",
      "Epoch 45/100\n",
      "83/83 [==============================] - 11s 127ms/step - loss: 5.4760e-04\n",
      "Epoch 46/100\n",
      "83/83 [==============================] - 11s 133ms/step - loss: 5.1131e-04\n",
      "Epoch 47/100\n",
      "83/83 [==============================] - 11s 129ms/step - loss: 5.5980e-04\n",
      "Epoch 48/100\n",
      "83/83 [==============================] - 11s 132ms/step - loss: 6.5625e-04\n",
      "Epoch 49/100\n",
      "83/83 [==============================] - 11s 131ms/step - loss: 4.8979e-04\n",
      "Epoch 50/100\n",
      "83/83 [==============================] - 11s 128ms/step - loss: 5.0439e-04\n",
      "Epoch 51/100\n",
      "83/83 [==============================] - 11s 127ms/step - loss: 4.1181e-04\n",
      "Epoch 52/100\n",
      "83/83 [==============================] - 11s 129ms/step - loss: 4.8635e-04\n",
      "Epoch 53/100\n",
      "83/83 [==============================] - 11s 134ms/step - loss: 5.5442e-04\n",
      "Epoch 54/100\n",
      "83/83 [==============================] - 11s 128ms/step - loss: 5.9301e-04\n",
      "Epoch 55/100\n",
      "83/83 [==============================] - 12s 142ms/step - loss: 5.0911e-04\n",
      "Epoch 56/100\n",
      "83/83 [==============================] - 12s 149ms/step - loss: 4.4681e-04\n",
      "Epoch 57/100\n",
      "83/83 [==============================] - 14s 164ms/step - loss: 4.7314e-04\n",
      "Epoch 58/100\n",
      "83/83 [==============================] - 14s 165ms/step - loss: 5.2822e-04\n",
      "Epoch 59/100\n",
      "83/83 [==============================] - 13s 151ms/step - loss: 5.1711e-04\n",
      "Epoch 60/100\n",
      "83/83 [==============================] - 12s 142ms/step - loss: 5.1418e-04\n",
      "Epoch 61/100\n",
      "83/83 [==============================] - 11s 131ms/step - loss: 4.4051e-04\n",
      "Epoch 62/100\n",
      "83/83 [==============================] - 10s 126ms/step - loss: 4.6321e-04\n",
      "Epoch 63/100\n",
      "83/83 [==============================] - 11s 129ms/step - loss: 4.5839e-04\n",
      "Epoch 64/100\n",
      "83/83 [==============================] - 11s 130ms/step - loss: 4.0826e-04\n",
      "Epoch 65/100\n",
      "83/83 [==============================] - 11s 128ms/step - loss: 4.8215e-04\n",
      "Epoch 66/100\n",
      "83/83 [==============================] - 11s 130ms/step - loss: 4.8636e-04\n",
      "Epoch 67/100\n",
      "83/83 [==============================] - 11s 129ms/step - loss: 4.7802e-04\n",
      "Epoch 68/100\n",
      "83/83 [==============================] - 11s 127ms/step - loss: 5.4199e-04\n",
      "Epoch 69/100\n",
      "83/83 [==============================] - 11s 129ms/step - loss: 3.9144e-04\n",
      "Epoch 70/100\n",
      "83/83 [==============================] - 11s 129ms/step - loss: 4.6771e-04\n",
      "Epoch 71/100\n",
      "83/83 [==============================] - 10s 126ms/step - loss: 5.1285e-04\n",
      "Epoch 72/100\n",
      "83/83 [==============================] - 11s 130ms/step - loss: 3.9794e-04\n",
      "Epoch 73/100\n",
      "83/83 [==============================] - 11s 129ms/step - loss: 4.3817e-04\n",
      "Epoch 74/100\n",
      "83/83 [==============================] - 10s 126ms/step - loss: 3.7665e-04\n",
      "Epoch 75/100\n",
      "83/83 [==============================] - 11s 129ms/step - loss: 3.9803e-04\n",
      "Epoch 76/100\n",
      "83/83 [==============================] - 11s 129ms/step - loss: 4.2221e-04\n",
      "Epoch 77/100\n",
      "83/83 [==============================] - 10s 126ms/step - loss: 4.5305e-04\n",
      "Epoch 78/100\n",
      "83/83 [==============================] - 11s 129ms/step - loss: 3.7802e-04\n",
      "Epoch 79/100\n",
      "83/83 [==============================] - 11s 129ms/step - loss: 5.2964e-04\n",
      "Epoch 80/100\n",
      "83/83 [==============================] - 11s 130ms/step - loss: 4.1143e-04\n",
      "Epoch 81/100\n",
      "83/83 [==============================] - 11s 130ms/step - loss: 4.5283e-04\n",
      "Epoch 82/100\n",
      "83/83 [==============================] - 11s 133ms/step - loss: 4.0382e-04\n",
      "Epoch 83/100\n",
      "83/83 [==============================] - 11s 127ms/step - loss: 4.6457e-04\n",
      "Epoch 84/100\n",
      "83/83 [==============================] - 11s 131ms/step - loss: 3.6733e-04\n",
      "Epoch 85/100\n",
      "83/83 [==============================] - 11s 132ms/step - loss: 4.9490e-04\n",
      "Epoch 86/100\n",
      "83/83 [==============================] - 11s 132ms/step - loss: 4.9856e-04\n",
      "Epoch 87/100\n",
      "83/83 [==============================] - 11s 128ms/step - loss: 4.2209e-04\n",
      "Epoch 88/100\n",
      "83/83 [==============================] - 11s 129ms/step - loss: 4.0016e-04\n",
      "Epoch 89/100\n",
      "83/83 [==============================] - 10s 126ms/step - loss: 3.6497e-04\n",
      "Epoch 90/100\n",
      "83/83 [==============================] - 12s 140ms/step - loss: 3.8643e-04\n",
      "Epoch 91/100\n",
      "83/83 [==============================] - 11s 134ms/step - loss: 3.6154e-04\n",
      "Epoch 92/100\n",
      "83/83 [==============================] - 11s 131ms/step - loss: 4.1600e-04\n",
      "Epoch 93/100\n",
      "83/83 [==============================] - 11s 129ms/step - loss: 3.7799e-04\n",
      "Epoch 94/100\n"
     ]
    },
    {
     "name": "stdout",
     "output_type": "stream",
     "text": [
      "83/83 [==============================] - 11s 129ms/step - loss: 3.9845e-04\n",
      "Epoch 95/100\n",
      "83/83 [==============================] - 11s 127ms/step - loss: 3.8123e-04\n",
      "Epoch 96/100\n",
      "83/83 [==============================] - 11s 127ms/step - loss: 3.7004e-04\n",
      "Epoch 97/100\n",
      "83/83 [==============================] - 11s 128ms/step - loss: 4.3378e-04\n",
      "Epoch 98/100\n",
      "83/83 [==============================] - 11s 129ms/step - loss: 3.8144e-04\n",
      "Epoch 99/100\n",
      "83/83 [==============================] - 11s 127ms/step - loss: 4.3190e-04\n",
      "Epoch 100/100\n",
      "83/83 [==============================] - 11s 128ms/step - loss: 4.2942e-04\n"
     ]
    },
    {
     "data": {
      "text/plain": [
       "<tensorflow.python.keras.callbacks.History at 0x1ae09778040>"
      ]
     },
     "execution_count": 12,
     "metadata": {},
     "output_type": "execute_result"
    }
   ],
   "source": [
    "regressor.compile(optimizer='adam', loss= 'MSE')\n",
    "\n",
    "regressor.fit(X_train,y_train, batch_size=32, epochs=100)"
   ]
  },
  {
   "cell_type": "markdown",
   "metadata": {},
   "source": [
    "# Predicted Value"
   ]
  },
  {
   "cell_type": "code",
   "execution_count": 13,
   "metadata": {},
   "outputs": [],
   "source": [
    "dataset_test = pd.read_csv('test_TCS.csv')\n",
    "real_stock_price = dataset_test.iloc[:, 1:2].values"
   ]
  },
  {
   "cell_type": "code",
   "execution_count": 14,
   "metadata": {},
   "outputs": [],
   "source": [
    "dataset_total = pd.concat((dataset_train['Open'], dataset_test['Open']),axis=0)\n",
    "inputs = dataset_total[len(dataset_total)-len(dataset_test) - 60:].values\n",
    "inputs = inputs.reshape(-1,1)\n",
    "inputs = sc.transform(inputs)\n",
    "\n",
    "X_test = []\n",
    "for i in range(60,80):\n",
    "    X_test.append(inputs[i-60:i, 0])\n",
    "    \n",
    "X_test = np.array(X_test)\n",
    "\n",
    "X_test = np.reshape(X_test,(X_test.shape[0], X_test.shape[1], 1))\n",
    "\n",
    "predicted_stock_price = regressor.predict(X_test)\n",
    "\n",
    "predicted_stock_price = sc.inverse_transform(predicted_stock_price)"
   ]
  },
  {
   "cell_type": "code",
   "execution_count": 17,
   "metadata": {},
   "outputs": [
    {
     "name": "stdout",
     "output_type": "stream",
     "text": [
      "mean Squared Error:  14814.188333089332\n"
     ]
    }
   ],
   "source": [
    "from sklearn.metrics import mean_squared_error\n",
    "MSE = mean_squared_error(predicted_stock_price, real_stock_price)\n",
    "print(\"mean Squared Error: \", MSE)"
   ]
  },
  {
   "cell_type": "code",
   "execution_count": 15,
   "metadata": {},
   "outputs": [
    {
     "data": {
      "text/html": [
       "<div>\n",
       "<style scoped>\n",
       "    .dataframe tbody tr th:only-of-type {\n",
       "        vertical-align: middle;\n",
       "    }\n",
       "\n",
       "    .dataframe tbody tr th {\n",
       "        vertical-align: top;\n",
       "    }\n",
       "\n",
       "    .dataframe thead th {\n",
       "        text-align: right;\n",
       "    }\n",
       "</style>\n",
       "<table border=\"1\" class=\"dataframe\">\n",
       "  <thead>\n",
       "    <tr style=\"text-align: right;\">\n",
       "      <th></th>\n",
       "      <th>index</th>\n",
       "      <th>real_stock_price</th>\n",
       "      <th>predicted_stock_price</th>\n",
       "      <th>diffreance</th>\n",
       "    </tr>\n",
       "  </thead>\n",
       "  <tbody>\n",
       "    <tr>\n",
       "      <th>0</th>\n",
       "      <td>0</td>\n",
       "      <td>3090.000000</td>\n",
       "      <td>2993.873047</td>\n",
       "      <td>96.126953</td>\n",
       "    </tr>\n",
       "    <tr>\n",
       "      <th>1</th>\n",
       "      <td>1</td>\n",
       "      <td>3230.000000</td>\n",
       "      <td>2996.510254</td>\n",
       "      <td>233.489746</td>\n",
       "    </tr>\n",
       "    <tr>\n",
       "      <th>2</th>\n",
       "      <td>2</td>\n",
       "      <td>3176.449951</td>\n",
       "      <td>3089.971436</td>\n",
       "      <td>86.478515</td>\n",
       "    </tr>\n",
       "    <tr>\n",
       "      <th>3</th>\n",
       "      <td>3</td>\n",
       "      <td>3175.000000</td>\n",
       "      <td>3082.161377</td>\n",
       "      <td>92.838623</td>\n",
       "    </tr>\n",
       "    <tr>\n",
       "      <th>4</th>\n",
       "      <td>4</td>\n",
       "      <td>3155.000000</td>\n",
       "      <td>3075.244141</td>\n",
       "      <td>79.755859</td>\n",
       "    </tr>\n",
       "    <tr>\n",
       "      <th>5</th>\n",
       "      <td>5</td>\n",
       "      <td>3235.000000</td>\n",
       "      <td>3059.233887</td>\n",
       "      <td>175.766113</td>\n",
       "    </tr>\n",
       "    <tr>\n",
       "      <th>6</th>\n",
       "      <td>6</td>\n",
       "      <td>3250.000000</td>\n",
       "      <td>3110.114258</td>\n",
       "      <td>139.885742</td>\n",
       "    </tr>\n",
       "    <tr>\n",
       "      <th>7</th>\n",
       "      <td>7</td>\n",
       "      <td>3233.000000</td>\n",
       "      <td>3136.596680</td>\n",
       "      <td>96.403320</td>\n",
       "    </tr>\n",
       "    <tr>\n",
       "      <th>8</th>\n",
       "      <td>8</td>\n",
       "      <td>3270.000000</td>\n",
       "      <td>3129.438965</td>\n",
       "      <td>140.561035</td>\n",
       "    </tr>\n",
       "    <tr>\n",
       "      <th>9</th>\n",
       "      <td>9</td>\n",
       "      <td>3305.000000</td>\n",
       "      <td>3149.597168</td>\n",
       "      <td>155.402832</td>\n",
       "    </tr>\n",
       "    <tr>\n",
       "      <th>10</th>\n",
       "      <td>10</td>\n",
       "      <td>3241.899902</td>\n",
       "      <td>3178.502930</td>\n",
       "      <td>63.396972</td>\n",
       "    </tr>\n",
       "    <tr>\n",
       "      <th>11</th>\n",
       "      <td>11</td>\n",
       "      <td>3308.949951</td>\n",
       "      <td>3144.105957</td>\n",
       "      <td>164.843994</td>\n",
       "    </tr>\n",
       "    <tr>\n",
       "      <th>12</th>\n",
       "      <td>12</td>\n",
       "      <td>3300.000000</td>\n",
       "      <td>3179.755615</td>\n",
       "      <td>120.244385</td>\n",
       "    </tr>\n",
       "    <tr>\n",
       "      <th>13</th>\n",
       "      <td>13</td>\n",
       "      <td>3230.000000</td>\n",
       "      <td>3184.011963</td>\n",
       "      <td>45.988037</td>\n",
       "    </tr>\n",
       "    <tr>\n",
       "      <th>14</th>\n",
       "      <td>14</td>\n",
       "      <td>3210.050049</td>\n",
       "      <td>3139.703857</td>\n",
       "      <td>70.346192</td>\n",
       "    </tr>\n",
       "    <tr>\n",
       "      <th>15</th>\n",
       "      <td>15</td>\n",
       "      <td>3100.000000</td>\n",
       "      <td>3115.781494</td>\n",
       "      <td>15.781494</td>\n",
       "    </tr>\n",
       "    <tr>\n",
       "      <th>16</th>\n",
       "      <td>16</td>\n",
       "      <td>3174.000000</td>\n",
       "      <td>3042.678955</td>\n",
       "      <td>131.321045</td>\n",
       "    </tr>\n",
       "    <tr>\n",
       "      <th>17</th>\n",
       "      <td>17</td>\n",
       "      <td>3213.000000</td>\n",
       "      <td>3072.272949</td>\n",
       "      <td>140.727051</td>\n",
       "    </tr>\n",
       "    <tr>\n",
       "      <th>18</th>\n",
       "      <td>18</td>\n",
       "      <td>3216.050049</td>\n",
       "      <td>3112.545410</td>\n",
       "      <td>103.504639</td>\n",
       "    </tr>\n",
       "    <tr>\n",
       "      <th>19</th>\n",
       "      <td>19</td>\n",
       "      <td>3198.949951</td>\n",
       "      <td>3123.596924</td>\n",
       "      <td>75.353027</td>\n",
       "    </tr>\n",
       "  </tbody>\n",
       "</table>\n",
       "</div>"
      ],
      "text/plain": [
       "    index  real_stock_price  predicted_stock_price  diffreance\n",
       "0       0       3090.000000            2993.873047   96.126953\n",
       "1       1       3230.000000            2996.510254  233.489746\n",
       "2       2       3176.449951            3089.971436   86.478515\n",
       "3       3       3175.000000            3082.161377   92.838623\n",
       "4       4       3155.000000            3075.244141   79.755859\n",
       "5       5       3235.000000            3059.233887  175.766113\n",
       "6       6       3250.000000            3110.114258  139.885742\n",
       "7       7       3233.000000            3136.596680   96.403320\n",
       "8       8       3270.000000            3129.438965  140.561035\n",
       "9       9       3305.000000            3149.597168  155.402832\n",
       "10     10       3241.899902            3178.502930   63.396972\n",
       "11     11       3308.949951            3144.105957  164.843994\n",
       "12     12       3300.000000            3179.755615  120.244385\n",
       "13     13       3230.000000            3184.011963   45.988037\n",
       "14     14       3210.050049            3139.703857   70.346192\n",
       "15     15       3100.000000            3115.781494   15.781494\n",
       "16     16       3174.000000            3042.678955  131.321045\n",
       "17     17       3213.000000            3072.272949  140.727051\n",
       "18     18       3216.050049            3112.545410  103.504639\n",
       "19     19       3198.949951            3123.596924   75.353027"
      ]
     },
     "execution_count": 15,
     "metadata": {},
     "output_type": "execute_result"
    }
   ],
   "source": [
    "compare_price = pd.DataFrame({'real_stock_price': dataset_test.iloc[:, 1].values, 'predicted_stock_price':predicted_stock_price.flatten(), 'diffreance':abs(dataset_test.iloc[:, 1].values-predicted_stock_price.flatten())}).reset_index()\n",
    "compare_price"
   ]
  },
  {
   "cell_type": "markdown",
   "metadata": {},
   "source": [
    "# Visualising the result"
   ]
  },
  {
   "cell_type": "code",
   "execution_count": 16,
   "metadata": {},
   "outputs": [
    {
     "data": {
      "image/png": "[encoded data removed]",
      "text/plain": [
       "<Figure size 1152x720 with 1 Axes>"
      ]
     },
     "metadata": {
      "needs_background": "light"
     },
     "output_type": "display_data"
    }
   ],
   "source": [
    "plt.figure(figsize=(16,10))\n",
    "plt.plot(real_stock_price, color = 'r', label='Real Value')\n",
    "plt.plot(predicted_stock_price, color = 'b', label='Predicted Value')\n",
    "plt.title('Show Result')\n",
    "plt.xlabel('Time')\n",
    "plt.ylabel('Values')\n",
    "plt.legend()\n",
    "plt.show()"
   ]
  },
  {
   "cell_type": "markdown",
   "metadata": {},
   "source": [
    "# Thank You!"
   ]
  }
 ],
 "metadata": {
  "kernelspec": {
   "display_name": "Python 3",
   "language": "python",
   "name": "python3"
  },
  "language_info": {
   "codemirror_mode": {
    "name": "ipython",
    "version": 3
   },
   "file_extension": ".py",
   "mimetype": "text/x-python",
   "name": "python",
   "nbconvert_exporter": "python",
   "pygments_lexer": "ipython3",
   "version": "3.8.5"
  }
 },
 "nbformat": 4,
 "nbformat_minor": 4
}
